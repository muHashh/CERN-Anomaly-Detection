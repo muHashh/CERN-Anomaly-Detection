{
 "cells": [
  {
   "cell_type": "code",
   "execution_count": null,
   "metadata": {},
   "outputs": [],
   "source": [
    "import numpy as np\n",
    "import hls4ml\n",
    "# import plotting\n",
    "import tensorflow as tf\n",
    "# from sklearn.metrics import accuracy_score\n",
    "from models import garnet_ae\n",
    "import h5py\n",
    "from external_models.garnet_old import GarNet\n",
    "from tensorflow.keras.models import load_model\n",
    "import utils.plotting as plotting\n",
    "# from qkeras import QActivation, QDense, QConv1D, QConv2D, quantized_bits\n",
    "import os\n",
    "import glob\n",
    "from pathlib import Path\n",
    "\n",
    "os.environ[\"PATH\"] = \"/mnt/data/tools/Xilinx/Vivado/2020.1/bin:\" + os.environ[\"PATH\"]"
   ]
  },
  {
   "cell_type": "code",
   "execution_count": null,
   "metadata": {},
   "outputs": [],
   "source": [
    "model = load_model(\"./output/garnet_scaled2-1/model.h5\", custom_objects={\"GarNet\": GarNet})\n",
    "\n",
    "\n",
    "config = hls4ml.utils.config_from_keras_model(model, granularity=\"model\")\n",
    "# np.save(\"config.npy\", config)\n",
    "\n",
    "# config = np.load(\"config.npy\", allow_pickle='TRUE').item()\n",
    "\n",
    "print(\"-----------------------------------\")\n",
    "print(\"Configuration\")\n",
    "print(\"-----------------------------------\")\n",
    "\n",
    "out = \"hls_test\"\n",
    "hls_model = hls4ml.converters.convert_from_keras_model(model, \n",
    "                                                       hls_config=config,\n",
    "                                                       output_dir=out,\n",
    "                                                       io_type=\"io_parallel\",\n",
    "                                                       part=\"xcvu9p-flgb2104-2-e\",\n",
    "                                                       backend=\"VivadoAccelerator\",)\n",
    "\n",
    "hls_model.compile()"
   ]
  }
 ],
 "metadata": {
  "interpreter": {
   "hash": "55504322e92351c9fe7a123aab82f165f773373dab118b744d8ed746bd7a262b"
  },
  "kernelspec": {
   "display_name": "Python 3.9.7 ('ml': conda)",
   "language": "python",
   "name": "python3"
  },
  "language_info": {
   "name": "python",
   "version": "3.9.7"
  },
  "orig_nbformat": 4
 },
 "nbformat": 4,
 "nbformat_minor": 2
}
