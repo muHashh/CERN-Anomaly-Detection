{
 "cells": [
  {
   "cell_type": "markdown",
   "source": [
    "# Visualise the Jet data from the dataset and processed signals"
   ],
   "metadata": {}
  },
  {
   "cell_type": "code",
   "execution_count": null,
   "source": [
    "import numpy as np\n",
    "import pandas as pd\n",
    "import glob\n",
    "import h5py\n",
    "from pathlib import Path\n",
    "import matplotlib.pyplot as plt\n",
    "from sklearn import preprocessing\n",
    "from sklearn.preprocessing import MinMaxScaler\n",
    "%matplotlib inline"
   ],
   "outputs": [],
   "metadata": {}
  },
  {
   "cell_type": "markdown",
   "source": [
    "## A single event is shown with each event having 16 particles and 3 features for each particle"
   ],
   "metadata": {}
  },
  {
   "cell_type": "code",
   "execution_count": null,
   "source": [
    "signals_loc = \"./signals/*\"\n",
    "dataset_loc = \"./dataset_normalised/dataset.h5\"\n",
    "\n",
    "features = [\"eta\", \"phi\", \"pT\"]"
   ],
   "outputs": [],
   "metadata": {}
  },
  {
   "cell_type": "markdown",
   "source": [
    "## Plot data\n"
   ],
   "metadata": {}
  },
  {
   "cell_type": "code",
   "execution_count": null,
   "source": [
    "def plot_data(title, feature_index, feature_column, input_featurenames):\n",
    "    plt.hist(feature_column[:,feature_index].flatten(), 50, density=True, histtype='step', fill=False, linewidth=1.5)\n",
    "    plt.yscale('log', nonposy='clip')     \n",
    "    plt.xlabel(input_featurenames[feature_index], fontsize=15)\n",
    "    plt.ylabel('Prob. Density (a.u.)', fontsize=15)\n",
    "    plt.title(title)\n",
    "    plt.grid(True)\n",
    "    plt.show()"
   ],
   "outputs": [],
   "metadata": {}
  },
  {
   "cell_type": "code",
   "execution_count": null,
   "source": [
    "for f in glob.glob(dataset_loc):\n",
    "    data = h5py.File(f, 'r')[\"x_test\"][()]\n",
    "    for i in range(len(features)):\n",
    "        plot_data(Path(f).stem, i, data[:,:,i], features)"
   ],
   "outputs": [],
   "metadata": {}
  },
  {
   "cell_type": "code",
   "execution_count": null,
   "source": [
    "for f in glob.glob(signals_loc):\n",
    "    data = h5py.File(f, 'r')[\"jetConstituentsList\"][()]\n",
    "    for i in range(len(features)):\n",
    "        plot_data(Path(f).stem, i, data[:,:,i], features)"
   ],
   "outputs": [],
   "metadata": {}
  }
 ],
 "metadata": {
  "interpreter": {
   "hash": "ce84e31b18c473fd308d8459c96b336de2dcb6f92f34bf58ac4a1e1aed70b997"
  },
  "kernelspec": {
   "name": "python3",
   "display_name": "Python 3.9.1 64-bit ('base': conda)"
  },
  "language_info": {
   "codemirror_mode": {
    "name": "ipython",
    "version": 3
   },
   "file_extension": ".py",
   "mimetype": "text/x-python",
   "name": "python",
   "nbconvert_exporter": "python",
   "pygments_lexer": "ipython3",
   "version": "3.9.1"
  }
 },
 "nbformat": 4,
 "nbformat_minor": 2
}