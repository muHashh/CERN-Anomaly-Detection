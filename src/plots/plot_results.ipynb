{
 "cells": [
  {
   "cell_type": "code",
   "execution_count": null,
   "source": [
    "import numpy as np\n",
    "import glob\n",
    "import h5py\n",
    "from pathlib import Path\n",
    "import matplotlib.pyplot as plt\n",
    "from sklearn.manifold import TSNE\n",
    "from sklearn.metrics import roc_curve, auc\n",
    "import glob\n",
    "\n",
    "%matplotlib inline\n",
    "plt.rcParams[\"figure.figsize\"] = (7,5)"
   ],
   "outputs": [],
   "metadata": {
    "scrolled": true
   }
  },
  {
   "cell_type": "code",
   "execution_count": null,
   "source": [
    "models = (\n",
    "    (\"Graph AE\", h5py.File(\"./output/garnet_mse/output.h5\", 'r')),\n",
    "    (\"Convolutional AE\", h5py.File(\"./output/cnn/output.h5\", 'r')),\n",
    ")\n",
    "\n",
    "signals_loc = glob.glob(\"./signals/*\")"
   ],
   "outputs": [],
   "metadata": {
    "scrolled": false
   }
  },
  {
   "cell_type": "code",
   "execution_count": null,
   "source": [
    "def plot_training_history(model_output, title):\n",
    "    loss = model_output['loss'][:]\n",
    "    val_loss = model_output['val_loss'][:]\n",
    "    \n",
    "    plt.figure()\n",
    "    plt.plot(loss, color=\"crimson\")\n",
    "    plt.plot(val_loss, color=\"tab:green\")\n",
    "    plt.title(\"Training History - %s\"%title)\n",
    "\n",
    "    plt.semilogy()\n",
    "    plt.xlabel('epoch')\n",
    "    plt.ylabel('loss')\n",
    "    plt.legend(['Training', 'Validation'], loc='upper right')\n",
    "    plt.tight_layout()\n",
    "    plt.grid(True)\n",
    "\n",
    "for model in models:\n",
    "    plot_training_history(model[1], model[0])"
   ],
   "outputs": [],
   "metadata": {
    "scrolled": false
   }
  },
  {
   "cell_type": "code",
   "execution_count": null,
   "source": [
    "def plot_features(model_output, title, signals_loc):\n",
    "    features = (\"eta\", \"phi\", \"pT\")\n",
    "\n",
    "    for f in [\"QCD\"]+signals_loc:\n",
    "        if f == \"QCD\":\n",
    "            qcd = model_output[f][()]\n",
    "        else:\n",
    "            print(f)\n",
    "            qcd = h5py.File(f, 'r')[\"jetConstituentsList\"][()]\n",
    "            \n",
    "        predicted_qcd = model_output[\"predicted_\"+f][()]\n",
    "\n",
    "        num_of_jets = qcd.shape[1]\n",
    "\n",
    "        for i, feature in enumerate(features):\n",
    "            plt.hist(np.squeeze(qcd[:,:,i]), 50, label=\"Input %s\"%feature, density=True, \n",
    "                histtype='step', fill=False, linewidth=1.5, color=[\"dodgerblue\" for x in range(num_of_jets)])\n",
    "\n",
    "            plt.hist(np.squeeze(predicted_qcd[:,:,i]), 50, label=\"Reconstruced %s\"%feature, density=True,\n",
    "                histtype='step', fill=False, linewidth=1.5, color=[\"firebrick\" for x in range(num_of_jets)])\n",
    "            \n",
    "            plt.yscale('log', nonposy='clip')     \n",
    "            plt.xlabel(feature, fontsize=15)\n",
    "            plt.ylabel('Prob. Density (a.u.)', fontsize=15)\n",
    "            plt.title(\"%s - %s\"%(title, f))\n",
    "            plt.grid(True)\n",
    "            plt.legend(loc=\"upper right\")\n",
    "\n",
    "            plt.show()\n",
    "\n",
    "for model in models:\n",
    "    plot_features(model[1], model[0], signals_loc)"
   ],
   "outputs": [],
   "metadata": {}
  },
  {
   "cell_type": "code",
   "execution_count": null,
   "source": [
    "def mse_loss(inputs, outputs):\n",
    "    return np.mean((inputs-outputs)*(inputs-outputs), axis=-1)\n",
    "\n",
    "loss = mse_loss"
   ],
   "outputs": [],
   "metadata": {}
  },
  {
   "cell_type": "code",
   "execution_count": null,
   "source": [
    "def ae_loss(model_output, title, signals_loc):\n",
    "    plt.figure()\n",
    "\n",
    "    for f in [\"QCD\"]+signals_loc:\n",
    "        \n",
    "        if f == \"QCD\":\n",
    "            fill, alpha = [True, 0.2]\n",
    "            inval = model_output[f][()]\n",
    "            name = f\n",
    "        else:\n",
    "            fill, alpha = [False, 1]\n",
    "            inval = h5py.File(f, 'r')[\"jetConstituentsList\"][()]\n",
    "            name = Path(f).stem\n",
    "\n",
    "        outval = model_output[\"predicted_\"+name][()]\n",
    "\n",
    "        lossQCD = loss(np.reshape(inval, [-1, 16*3*1]), np.reshape(outval, [-1, 16*3*1]))\n",
    "        maxScore = np.max(lossQCD)\n",
    "\n",
    "        # plot AE Loss\n",
    "        plt.hist(lossQCD, bins=100, label=name, density=True, range=(0, maxScore), \n",
    "                 histtype='step', fill=fill, alpha=alpha, linewidth=1.5)\n",
    "\n",
    "    plt.semilogy()\n",
    "    plt.title(title)\n",
    "    plt.xlabel(\"AE Loss\")\n",
    "    plt.ylabel(\"Probability (a.u.)\")\n",
    "    plt.grid(True)\n",
    "    plt.legend(loc=\"upper right\")\n",
    "    plt.show()\n",
    "\n",
    "for model in models:\n",
    "    ae_loss(model[1], model[0], signals_loc)"
   ],
   "outputs": [],
   "metadata": {
    "scrolled": false
   }
  },
  {
   "cell_type": "code",
   "execution_count": null,
   "source": [
    "def metrics(model_output, signals_loc):\n",
    "    lossQCD = loss(np.reshape(model_output[\"QCD\"][()], [-1, 16*3*1]), np.reshape(model_output[\"predicted_QCD\"][()], [-1, 16*3*1]))\n",
    "    \n",
    "    metrics = []\n",
    "    \n",
    "    for f in signals_loc:\n",
    "        name = Path(f).stem\n",
    "        \n",
    "        anomaly = h5py.File(f, 'r')[\"jetConstituentsList\"][()]\n",
    "        loss_anomaly = loss(np.reshape(anomaly, [-1, 16*3*1]), np.reshape(model_output[\"predicted_\"+name][()], [-1, 16*3*1]))\n",
    "\n",
    "        true_val = np.concatenate((np.ones(loss_anomaly.shape[0]), np.zeros(lossQCD.shape[0])))\n",
    "        pred_val = np.concatenate((loss_anomaly, lossQCD))\n",
    "\n",
    "        fpr, tpr, threshold = roc_curve(true_val, pred_val)\n",
    "        auc_data = auc(fpr, tpr)\n",
    "        \n",
    "        metrics.append([name, fpr, tpr, auc_data])\n",
    "    \n",
    "    return np.array(metrics, dtype=object)"
   ],
   "outputs": [],
   "metadata": {
    "scrolled": false
   }
  },
  {
   "cell_type": "code",
   "execution_count": null,
   "source": [
    "def plot_roc(model_output, title, signals_loc):\n",
    "    for sig_metrics in metrics(model_output, signals_loc):\n",
    "\n",
    "        plt.plot(sig_metrics[2], sig_metrics[1], label=\"%s (auc = %.1f%%)\"%(sig_metrics[0], sig_metrics[3]*100.))\n",
    "\n",
    "        plt.semilogy()\n",
    "        plt.title(title)\n",
    "        plt.xlabel(\"sig. efficiency\")\n",
    "        plt.ylabel(\"bkg. mistag rate\")\n",
    "        plt.grid(True)\n",
    "        plt.legend(loc=\"lower right\")\n",
    "         \n",
    "    plt.show()\n",
    "    \n",
    "for model in models:\n",
    "    plot_roc(model[1], model[0], signals_loc)"
   ],
   "outputs": [],
   "metadata": {
    "scrolled": true
   }
  },
  {
   "cell_type": "code",
   "execution_count": null,
   "source": [
    "def ratios(base_output, signals_loc):\n",
    "    model_output = h5py.File(base_output, \"r\")\n",
    "    base = metrics(model_output, signals_loc)\n",
    "    plt.hlines(1, 1, 17, linestyles='--', color='#ef5675', linewidth=1.5)\n",
    "    plt.ylim(0.7, 1.3)\n",
    "    \n",
    "    for i in range(2, 17, 2):\n",
    "        model_output_qp = h5py.File(\"output/cnn_qp\"+str(i)+\"/output.h5\", \"r\")\n",
    "        bits = metrics(model_output_qp, signals_loc)\n",
    "        plt.scatter([i]*len(base), bits[:,3]/base[:,3])\n",
    "        \n",
    "    # plt.legend()\n",
    "    plt.xlabel(\"Bit Width\")\n",
    "    plt.ylabel(\"Sig. AUC / Base AUC\")\n",
    "    plt.title(\"Bit Ratios\")\n",
    "    plt.show()\n",
    "    \n",
    "ratios(\"output/cnn/output.h5\", signals_loc)"
   ],
   "outputs": [],
   "metadata": {
    "scrolled": false
   }
  }
 ],
 "metadata": {
  "interpreter": {
   "hash": "ce84e31b18c473fd308d8459c96b336de2dcb6f92f34bf58ac4a1e1aed70b997"
  },
  "kernelspec": {
   "name": "python3",
   "display_name": "Python 3.9.1 64-bit ('base': conda)"
  },
  "language_info": {
   "name": "python",
   "version": "3.9.1",
   "mimetype": "text/x-python",
   "codemirror_mode": {
    "name": "ipython",
    "version": 3
   },
   "pygments_lexer": "ipython3",
   "nbconvert_exporter": "python",
   "file_extension": ".py"
  }
 },
 "nbformat": 4,
 "nbformat_minor": 2
}