{
 "cells": [
  {
   "cell_type": "code",
   "execution_count": null,
   "metadata": {
    "scrolled": true
   },
   "outputs": [],
   "source": [
    "import numpy as np\n",
    "import glob\n",
    "import h5py\n",
    "import matplotlib.pyplot as plt\n",
    "from sklearn.manifold import TSNE\n",
    "from sklearn.metrics import roc_curve, auc\n",
    "import glob\n",
    "import os\n",
    "from pathlib import Path\n",
    "import tensorflow as tf\n",
    "\n",
    "%matplotlib inline\n",
    "plt.rcParams[\"figure.figsize\"] = (7,5)"
   ]
  },
  {
   "cell_type": "code",
   "execution_count": null,
   "metadata": {
    "scrolled": false
   },
   "outputs": [],
   "source": [
    "models = (\n",
    "    [\"GarNet\", \"/eos/user/m/mushahid/cms-ad/src/output/test7\", glob.glob(\"../signals/signals1/*\")],\n",
    ")\n",
    "\n",
    "for model in models:\n",
    "    model.append(h5py.File(model[1]+\"/output.h5\", 'r'))\n",
    "\n",
    "\n",
    "features = (\"η\", \"ϕ\", \"pT\")\n",
    "loss = tf.keras.losses.MeanSquaredError()"
   ]
  },
  {
   "cell_type": "code",
   "execution_count": null,
   "metadata": {
    "scrolled": false
   },
   "outputs": [],
   "source": [
    "def plot_training_history(model_output, title, model_loc):\n",
    "    loss = model_output['loss'][:]\n",
    "    val_loss = model_output['val_loss'][:]\n",
    "    \n",
    "    plt.figure()\n",
    "    plt.plot(loss, color=\"crimson\")\n",
    "    plt.plot(val_loss, color=\"tab:green\")\n",
    "    plt.title(\"Training History - %s\"%title)\n",
    "\n",
    "    plt.semilogy()\n",
    "    plt.xlabel('epoch')\n",
    "    plt.ylabel('loss')\n",
    "    plt.legend(['Training', 'Validation'], loc='upper right')\n",
    "    plt.tight_layout()\n",
    "    plt.grid(True)\n",
    "\n",
    "    plt.savefig(model_loc+\"/training.png\")\n",
    "    plt.show()\n",
    "\n",
    "for model in models:\n",
    "    plot_training_history(model[-1], model[0], model[1])"
   ]
  },
  {
   "cell_type": "code",
   "execution_count": null,
   "metadata": {},
   "outputs": [],
   "source": [
    "def plot_features1d(model_output, title, signals_loc, model_loc):\n",
    "\n",
    "    fig, axs = plt.subplots(len(signals_loc)+1, len(features), figsize=(17,17))\n",
    "\n",
    "    for i, f in enumerate([\"QCD\"]+signals_loc):\n",
    "        if f == \"QCD\":\n",
    "            input_data = model_output[f][()]\n",
    "        else:\n",
    "            input_data = h5py.File(f, 'r')[\"jetConstituentsList\"][()]\n",
    "\n",
    "        predicted_data = model_output[\"predicted_\"+Path(f).stem][()]\n",
    "        # predicted_data = np.expand_dims(np.reshape(predicted_data, (np.shape(predicted_data)[0],) + (16, 3)), axis=3)\n",
    "\n",
    "        for j, feature in enumerate(features):\n",
    "\n",
    "            ax = axs[i][j]\n",
    "            \n",
    "            ax.hist(input_data[:,:,j].flatten(), 100, label=\"Input %s\"%feature, density=False, \n",
    "                histtype='step', fill=False, linewidth=1, color=\"dodgerblue\")\n",
    "\n",
    "            ax.hist(predicted_data[:,:,j].flatten(), 100, label=\"Reconstruced %s\"%feature, density=False,\n",
    "                histtype='step', fill=False, linewidth=1, color=\"firebrick\")\n",
    "            \n",
    "            ax.set_yscale('log', nonpositive='clip')     \n",
    "            ax.set_xlabel(feature, fontsize=15)\n",
    "            ax.set_ylabel('Prob. Density (a.u.)', fontsize=15)\n",
    "            ax.set_title(\"%s - %s\"%(title, Path(f).stem))\n",
    "            ax.grid(True)\n",
    "            ax.legend(loc=\"upper right\")\n",
    "\n",
    "    fig.tight_layout()\n",
    "    plt.savefig(model_loc+\"/recon1d.png\")\n",
    "    plt.show()\n",
    "\n",
    "for model in models:\n",
    "    plot_features1d(model[-1], model[0], model[2], model[1])"
   ]
  },
  {
   "cell_type": "code",
   "execution_count": null,
   "metadata": {},
   "outputs": [],
   "source": [
    "def plot_features2d(model_output, title, signals_loc, model_loc):\n",
    "\n",
    "    fig, axs =  plt.subplots(len(signals_loc)+1, len(features), figsize=(17,17))\n",
    "\n",
    "    for i, f in enumerate([\"QCD\"]+signals_loc):\n",
    "        if f == \"QCD\":\n",
    "            input_data = model_output[f][()]\n",
    "        else:\n",
    "            input_data = h5py.File(f, 'r')[\"jetConstituentsList\"][()]\n",
    "\n",
    "        predicted_data = model_output[\"predicted_\"+Path(f).stem][()]\n",
    "\n",
    "        for j, feature in enumerate(features):\n",
    "\n",
    "            ax = axs[i][j]\n",
    "\n",
    "            x = predicted_data[:,:,j].flatten()\n",
    "            y = input_data[:,:,j].flatten()\n",
    "            \n",
    "            plot = ax.hist2d(x, y, bins=100, density=False)\n",
    "            \n",
    "            ax.set_xlabel(\"Reconstructed {}\".format(feature), fontsize=15)\n",
    "            ax.set_ylabel('Input {}'.format(feature), fontsize=15)\n",
    "            ax.set_title(\"%s - %s\"%(title, Path(f).stem))\n",
    "            fig.colorbar(plot[3], ax=ax)\n",
    "\n",
    "    fig.tight_layout()\n",
    "    plt.savefig(model_loc+\"/recon2d.png\")\n",
    "    plt.show()\n",
    "\n",
    "for model in models:\n",
    "    plot_features2d(model[-1], model[0], model[2], model[1])"
   ]
  },
  {
   "cell_type": "code",
   "execution_count": null,
   "metadata": {
    "scrolled": false
   },
   "outputs": [],
   "source": [
    "def ae_loss(model_output, title, signals_loc, model_loc):\n",
    "    plt.figure()\n",
    "\n",
    "    for f in [\"QCD\"]+signals_loc:\n",
    "        \n",
    "        if f == \"QCD\":\n",
    "            fill, alpha = [True, 0.2]\n",
    "            inval = model_output[f][()]\n",
    "            name = f\n",
    "        else:\n",
    "            fill, alpha = [False, 1]\n",
    "            inval = h5py.File(f, 'r')[\"jetConstituentsList\"][()]\n",
    "            name = Path(f).stem\n",
    "\n",
    "        outval = model_output[\"predicted_\"+name][()]\n",
    "\n",
    "        lossQCD = loss(np.reshape(inval, [-1, 16*3*1]), np.reshape(outval, [-1, 16*3*1]))\n",
    "        maxScore = np.max(lossQCD)\n",
    "\n",
    "        # plot AE Loss\n",
    "        plt.hist(lossQCD, bins=100, label=name, density=True, range=(0, maxScore), \n",
    "                 histtype='step', fill=fill, alpha=alpha, linewidth=1.5)\n",
    "\n",
    "    plt.semilogy()\n",
    "    plt.title(title)\n",
    "    plt.xlabel(\"AE Loss\")\n",
    "    plt.ylabel(\"Probability (a.u.)\")\n",
    "    plt.grid(True)\n",
    "    plt.legend(loc=\"upper right\")\n",
    "    plt.savefig(model_loc+\"/loss.png\")\n",
    "    plt.show()\n",
    "\n",
    "for model in models:\n",
    "    ae_loss(model[-1], model[0], model[2], model[1])"
   ]
  },
  {
   "cell_type": "code",
   "execution_count": null,
   "metadata": {
    "scrolled": false
   },
   "outputs": [],
   "source": [
    "def metrics(model_output, signals_loc):\n",
    "    lossQCD = loss(np.reshape(model_output[\"QCD\"][()], [-1, 16*3*1]), np.reshape(model_output[\"predicted_QCD\"][()], [-1, 16*3*1]))\n",
    "    \n",
    "    metrics = []\n",
    "    \n",
    "    for f in signals_loc:\n",
    "        name = Path(f).stem\n",
    "        \n",
    "        anomaly = h5py.File(f, 'r')[\"jetConstituentsList\"][()]\n",
    "        loss_anomaly = loss(np.reshape(anomaly, [-1, 16*3*1]), np.reshape(model_output[\"predicted_\"+name][()], [-1, 16*3*1]))\n",
    "\n",
    "        true_val = np.concatenate((np.ones(loss_anomaly.shape[0]), np.zeros(lossQCD.shape[0])))\n",
    "        pred_val = np.concatenate((loss_anomaly, lossQCD))\n",
    "\n",
    "        fpr, tpr, threshold = roc_curve(true_val, pred_val)\n",
    "        auc_data = auc(fpr, tpr)\n",
    "        \n",
    "        metrics.append([name, fpr, tpr, auc_data])\n",
    "    \n",
    "    return np.array(metrics, dtype=object)"
   ]
  },
  {
   "cell_type": "code",
   "execution_count": null,
   "metadata": {
    "scrolled": true
   },
   "outputs": [],
   "source": [
    "def plot_roc(model_output, title, signals_loc, model_loc):\n",
    "    for sig_metrics in metrics(model_output, signals_loc):\n",
    "\n",
    "        plt.plot(sig_metrics[2], sig_metrics[1], label=\"%s (auc = %.1f%%)\"%(sig_metrics[0], sig_metrics[3]*100.))\n",
    "\n",
    "        plt.semilogy()\n",
    "        plt.title(title)\n",
    "        plt.xlabel(\"sig. efficiency\")\n",
    "        plt.ylabel(\"bkg. mistag rate\")\n",
    "        plt.grid(True)\n",
    "        plt.legend(loc=\"lower right\")\n",
    "         \n",
    "    plt.savefig(model_loc+\"/roc.png\")\n",
    "    plt.show()\n",
    "    \n",
    "for model in models:\n",
    "    plot_roc(model[-1], model[0], model[2], model[1])"
   ]
  },
  {
   "cell_type": "code",
   "execution_count": null,
   "metadata": {
    "scrolled": false
   },
   "outputs": [],
   "source": [
    "def ratios(base_output, signals_loc):\n",
    "    model_output = h5py.File(base_output, \"r\")\n",
    "    base = metrics(model_output, glob.glob(signals_loc))\n",
    "    plt.hlines(1, 1, 17, linestyles='--', color='#ef5675', linewidth=1.5)\n",
    "    plt.ylim(0.7, 1.3)\n",
    "\n",
    "    for i in range(2, 17, 2):\n",
    "        model_output_qp = h5py.File(\"output/cnn_qp\"+str(i)+\"/output.h5\", \"r\")\n",
    "        bits = metrics(model_output_qp, signals_loc)\n",
    "        plt.scatter([i]*len(base), bits[:, 3]/base[:, 3])\n",
    "\n",
    "    # plt.legend()\n",
    "    plt.xlabel(\"Bit Width\")\n",
    "    plt.ylabel(\"Sig. AUC / Base AUC\")\n",
    "    plt.title(\"Bit Ratios\")\n",
    "    plt.show()\n",
    "\n",
    "# ratios(\"../output/cnn/output.h5\", \"../signals_old/*\")"
   ]
  }
 ],
 "metadata": {
  "interpreter": {
   "hash": "ce84e31b18c473fd308d8459c96b336de2dcb6f92f34bf58ac4a1e1aed70b997"
  },
  "kernelspec": {
   "display_name": "Python 3.9.1 64-bit ('base': conda)",
   "name": "python3"
  },
  "language_info": {
   "codemirror_mode": {
    "name": "ipython",
    "version": 3
   },
   "file_extension": ".py",
   "mimetype": "text/x-python",
   "name": "python",
   "nbconvert_exporter": "python",
   "pygments_lexer": "ipython3",
   "version": "3.9.7"
  }
 },
 "nbformat": 4,
 "nbformat_minor": 2
}
